{
 "cells": [
  {
   "cell_type": "markdown",
   "id": "cbebcdc0",
   "metadata": {},
   "source": [
    "<tr>\n",
    "    <img src=\"https://saturn-public-assets.s3.us-east-2.amazonaws.com/example-resources/snowflake.png\" width=\"300\">\n",
    "</tr>\n",
    "<table>\n",
    "        <td>\n",
    "            <img src=\"..\\Images\\logo.jpg\" width=\"300\">\n",
    "        </td>\n",
    "        <td>\n",
    "            <img src=\"..\\Images\\call_center.jpg\" width=\"300\">\n",
    "        </td>\n",
    "</table>"
   ]
  },
  {
   "cell_type": "markdown",
   "id": "91b8cfe4",
   "metadata": {},
   "source": [
    "# 211-OC Call Database to Snowflake"
   ]
  },
  {
   "cell_type": "code",
   "execution_count": 1,
   "id": "5ca81a89",
   "metadata": {},
   "outputs": [],
   "source": [
    "# Make sure to pip the connector and install the dependencies:\n",
    "# https://docs.snowflake.com/en/user-guide/python-connector-install.html\n",
    "import snowflake.connector\n",
    "from snowflake.connector.pandas_tools import write_pandas\n",
    "import os\n",
    "import pandas as pd\n",
    "\n",
    "f = open(\"SF_Account_Info.txt\", \"r\")\n",
    "\n",
    "usr = f.readline()\n",
    "usr = usr.replace('\\n', '')\n",
    "psswrd = f.readline()\n",
    "psswrd = psswrd.replace('\\n', '')\n",
    "accnt = f.readline()\n",
    "accnt = accnt.replace('\\n', '')\n",
    "dbName = f.readline()\n",
    "dbName = dbName.replace('\\n', '')\n",
    "path = f.readline()\n",
    "path = path.replace('\\n', '')\n",
    "file1 = f.readline()\n",
    "file1 = file1.replace('\\n', '')\n",
    "file2 = f.readline()\n",
    "file2 = file2.replace('\\n', '')\n",
    "file3 = f.readline()\n",
    "file3 = file3.replace('\\n', '')\n",
    "file4 = f.readline()\n",
    "file4 = file4.replace('\\n', '')\n",
    "file5 = f.readline()\n",
    "file5 = file5.replace('\\n', '')\n",
    "file6 = f.readline()\n",
    "file6 = file6.replace('\\n', '')\n",
    "file7 = f.readline()\n",
    "file7 = file7.replace('\\n', '')"
   ]
  },
  {
   "cell_type": "code",
   "execution_count": 2,
   "id": "69891ba0",
   "metadata": {
    "scrolled": true
   },
   "outputs": [
    {
     "name": "stdout",
     "output_type": "stream",
     "text": [
      "USER \n",
      " PASSWORD \n",
      " ACCOUNT.east-us-2.azure \n",
      " adbnamehere \n",
      " J:\\\\Plan4Co\\SaturnCloud\\211-OC_Data\\ \n",
      " FormattedCallReports_year 2016.xlsx \n",
      " FormattedCallReports_year 2017.xlsx \n",
      " FormattedCallReports_year 2018.xlsx\n"
     ]
    }
   ],
   "source": [
    "print(usr,'\\n', psswrd,'\\n', accnt,'\\n', dbName, '\\n', path, '\\n', file1,'\\n', file2,'\\n', file3)"
   ]
  },
  {
   "cell_type": "code",
   "execution_count": 3,
   "id": "ea8a88b6",
   "metadata": {},
   "outputs": [
    {
     "name": "stdout",
     "output_type": "stream",
     "text": [
      "The Following Accounts Will Be Granted Share Access:\n",
      "L000000 O000000 A000000 B000000 C000000 E000000 G000000 G000000 J000000 S000000 T000000 X000000 Z000000 Z000000 \n"
     ]
    }
   ],
   "source": [
    "f1 = open(\"SHARED_SF_Account_Info.txt\", \"r\")\n",
    "\n",
    "shareName = f1.readline()\n",
    "shareName = shareName.replace('\\n', '')\n",
    "\n",
    "sharedAccnt1 = f1.readline()\n",
    "sharedAccnt1 = sharedAccnt1.replace('\\n', '')\n",
    "sharedAccnt2 = f1.readline()\n",
    "sharedAccnt2 = sharedAccnt2.replace('\\n', '')\n",
    "sharedAccnt3 = f1.readline()\n",
    "sharedAccnt3 = sharedAccnt3.replace('\\n', '')\n",
    "sharedAccnt4 = f1.readline()\n",
    "sharedAccnt4 = sharedAccnt4.replace('\\n', '')\n",
    "sharedAccnt5 = f1.readline()\n",
    "sharedAccnt5 = sharedAccnt5.replace('\\n', '')\n",
    "sharedAccnt6 = f1.readline()\n",
    "sharedAccnt6 = sharedAccnt6.replace('\\n', '')\n",
    "sharedAccnt7 = f1.readline()\n",
    "sharedAccnt7 = sharedAccnt7.replace('\\n', '')\n",
    "sharedAccnt8 = f1.readline()\n",
    "sharedAccnt8 = sharedAccnt8.replace('\\n', '')\n",
    "sharedAccnt9 = f1.readline()\n",
    "sharedAccnt9 = sharedAccnt9.replace('\\n', '')\n",
    "sharedAccnt10 = f1.readline()\n",
    "sharedAccnt10 = sharedAccnt10.replace('\\n', '')\n",
    "sharedAccnt11 = f1.readline()\n",
    "sharedAccnt11 = sharedAccnt11.replace('\\n', '')\n",
    "sharedAccnt12 = f1.readline()\n",
    "sharedAccnt12 = sharedAccnt12.replace('\\n', '')\n",
    "sharedAccnt13 = f1.readline()\n",
    "sharedAccnt13 = sharedAccnt13.replace('\\n', '')\n",
    "sharedAccnt14 = f1.readline()\n",
    "sharedAccnt14 = sharedAccnt14.replace('\\n', '')\n",
    "sharedAccnt15 = f1.readline()\n",
    "sharedAccnt15 = sharedAccnt15.replace('\\n', '')\n",
    "\n",
    "print('The Following Accounts Will Be Granted Share Access:\\n' + sharedAccnt1, sharedAccnt2, sharedAccnt3, sharedAccnt4, sharedAccnt5, sharedAccnt6, sharedAccnt7, sharedAccnt8, sharedAccnt9, sharedAccnt10, sharedAccnt11, sharedAccnt12, sharedAccnt13, sharedAccnt14, sharedAccnt15)"
   ]
  },
  {
   "cell_type": "code",
   "execution_count": 4,
   "id": "a46e9bd5",
   "metadata": {},
   "outputs": [],
   "source": [
    "accountList = [sharedAccnt1, sharedAccnt2, sharedAccnt3, sharedAccnt4, sharedAccnt5, sharedAccnt6, sharedAccnt7, sharedAccnt8, sharedAccnt9, sharedAccnt10, sharedAccnt11, sharedAccnt12, sharedAccnt13, sharedAccnt14, sharedAccnt15]\n",
    "ACCOUNT_LIST = []\n",
    "for i in accountList:\n",
    "    if len(i) != 0:\n",
    "        ACCOUNT_LIST.append(i)"
   ]
  },
  {
   "cell_type": "code",
   "execution_count": 5,
   "id": "90fd44fe",
   "metadata": {},
   "outputs": [],
   "source": [
    "aSQLstatement = 'USE database {};'.format(dbName)\n",
    "sqlScript = 'create share {};'.format(shareName)\n",
    "sqlScript1 = 'grant usage on database {} to share {};'.format(dbName, shareName)\n",
    "sqlScript2 = 'grant usage on schema {}.public to share {};'.format(dbName, shareName)\n",
    "sqlScript3 = 'grant select on all tables in schema {}.public to share {};'.format(dbName, shareName)"
   ]
  },
  {
   "cell_type": "code",
   "execution_count": null,
   "id": "163c1645",
   "metadata": {},
   "outputs": [],
   "source": [
    "# Connect to SF\n",
    "conn = snowflake.connector.connect(\n",
    "    user=usr,\n",
    "    password=psswrd,\n",
    "    account=accnt,\n",
    "    role='ACCOUNTADMIN',\n",
    "    warehouse='COMPUTE_WH',\n",
    "    #database='TWO_ELEVEN_OC_SAMPLE_DATA',\n",
    "    #table='FORMATTED_REPORTS',\n",
    "    #schema='PUBLIC'\n",
    "                                    )\n",
    "print(\"Connected to Snowflake using \" + usr + \" \" + accnt)"
   ]
  },
  {
   "cell_type": "code",
   "execution_count": 7,
   "id": "5c10a0ad",
   "metadata": {},
   "outputs": [
    {
     "name": "stdout",
     "output_type": "stream",
     "text": [
      "\tUsing files from dir J:\\\\Plan4Co\\SaturnCloud\\211-OC_Data\\\n"
     ]
    }
   ],
   "source": [
    "os.chdir(path)\n",
    "print(\"\\tUsing files from dir \" + path)"
   ]
  },
  {
   "cell_type": "code",
   "execution_count": 8,
   "id": "bd067931",
   "metadata": {},
   "outputs": [],
   "source": [
    "def uploadExcel(fileName):\n",
    "    # Returns Year of File Passed to Method\n",
    "    def fileYear():\n",
    "        aYear = fileName[-7:-5]\n",
    "        return '20' + aYear\n",
    "    \n",
    "    # Creates String to Pass to SF Python Connector for Table Creation\n",
    "    def moreFormat(theInput):\n",
    "        \n",
    "        anthrList = []\n",
    "        stringList = []\n",
    "        o = 0\n",
    "        \n",
    "        for i in theInput:\n",
    "            if i.startswith(' '):\n",
    "                theInput[o] = i.strip()\n",
    "            o = o + 1\n",
    "            \n",
    "            if len(i) > 255:\n",
    "                i = i[:255]\n",
    "        \n",
    "            splChar = [\n",
    "            '(',')','[',']','/','\\\\','-','.',':','\\t','<','>','\"','?',\n",
    "            '!','`',\"'\",'&','^',' ','{','}','+','=','~','|',';','%','#']\n",
    "            for x in splChar:\n",
    "                i = i.replace(x, '_')\n",
    "            anthrList.append(i)\n",
    "            stringList.append(i)\n",
    "\n",
    "        stringList = str(stringList)\n",
    "        stringList = stringList.replace(\"'\", '\"')\n",
    "        stringList = stringList.replace(\",\", ' varchar,\\n')\n",
    "        stringList = stringList.strip(\"[]\")\n",
    "        stringList = stringList + \" varchar\"\n",
    "\n",
    "        return anthrList, stringList\n",
    "    \n",
    "    # Convert to Pandas DF\n",
    "    def makePandas():\n",
    "        if fileName != '':\n",
    "            dfSheet1 = pd.read_excel(fileName, sheet_name=0)\n",
    "            dfSheet2 = pd.read_excel(fileName, sheet_name=1)\n",
    "            dfSheet3 = pd.read_excel(fileName, sheet_name=2)\n",
    "            dfSheet1.convert_dtypes(), dfSheet2.convert_dtypes(), dfSheet3.convert_dtypes()\n",
    "            \n",
    "            # Call moreFormat to pass string to SF Python Connector & Change DF Column Names to Match\n",
    "            thisVar1 = dfSheet1.columns.tolist()\n",
    "            dfSheet1.columns, stringList1 = moreFormat(thisVar1)\n",
    "            thisVar2 = dfSheet2.columns.tolist()\n",
    "            dfSheet2.columns, stringList2 = moreFormat(thisVar2)\n",
    "            thisVar3 = dfSheet3.columns.tolist()\n",
    "            dfSheet3.columns, stringList3 = moreFormat(thisVar3)\n",
    "            \n",
    "            # Create Cursor Object\n",
    "            conn.cursor().execute(\"CREATE DATABASE IF NOT EXISTS {}\".format(dbName.upper()))\n",
    "            conn.cursor().execute(\"USE DATABASE {}\".format(dbName.upper()))\n",
    "            \n",
    "            # Create Snowflake Table and Columns & Upload the DF to SF\n",
    "            conn.cursor().execute(\n",
    "                \"CREATE OR REPLACE TABLE \"\n",
    "                \"NEEDSMETANDUNMET{}({})\".format(fileYear(), stringList1))\n",
    "            success, nchunks, nrows, _ = write_pandas(conn, dfSheet1, 'NEEDSMETANDUNMET{}'.format(fileYear()))\n",
    "            \n",
    "            conn.cursor().execute(\n",
    "                \"CREATE OR REPLACE TABLE \"\n",
    "                \"CALLREPORTS{}({})\".format(fileYear(), stringList2))\n",
    "            success, nchunks, nrows, _ = write_pandas(conn, dfSheet2, 'CALLREPORTS{}'.format(fileYear()))\n",
    "            \n",
    "            conn.cursor().execute(\n",
    "                \"CREATE OR REPLACE TABLE \"\n",
    "                \"REFERRALS{}({})\".format(fileYear(), stringList3))\n",
    "            success, nchunks, nrows, _ = write_pandas(conn, dfSheet3, 'REFERRALS{}'.format(fileYear()))            \n",
    "             \n",
    "            return print(fileName + ' Uploaded Succesfully To Snowflake!')\n",
    "        else:\n",
    "            return print('Nothing More to Upload.')\n",
    "    return makePandas()    "
   ]
  },
  {
   "cell_type": "code",
   "execution_count": 9,
   "id": "f1f708cf",
   "metadata": {},
   "outputs": [
    {
     "name": "stdout",
     "output_type": "stream",
     "text": [
      "Uploading FormattedCallReports_year 2016.xlsx\n",
      "This will take several minutes.\n",
      "FormattedCallReports_year 2016.xlsx Uploaded Succesfully To Snowflake!\n"
     ]
    }
   ],
   "source": [
    "print(\"Uploading \" + file1 + \"\\nThis will take several minutes.\")\n",
    "uploadExcel(file1)"
   ]
  },
  {
   "cell_type": "code",
   "execution_count": null,
   "id": "3b421e0d",
   "metadata": {
    "scrolled": true
   },
   "outputs": [
    {
     "name": "stdout",
     "output_type": "stream",
     "text": [
      "Uploading FormattedCallReports_year 2017.xlsx\n",
      "This will take several minutes.\n"
     ]
    }
   ],
   "source": [
    "print(\"Uploading \" + file2 + \"\\nThis will take several minutes.\")\n",
    "uploadExcel(file2)"
   ]
  },
  {
   "cell_type": "code",
   "execution_count": null,
   "id": "0c4768d2",
   "metadata": {},
   "outputs": [],
   "source": [
    "print(\"Uploading \" + file3 + \"\\nThis will take several minutes.\")\n",
    "uploadExcel(file3)"
   ]
  },
  {
   "cell_type": "code",
   "execution_count": null,
   "id": "f049f8cd",
   "metadata": {},
   "outputs": [],
   "source": [
    "print(\"Uploading \" + file4 + \"\\nThis will take several minutes.\")\n",
    "uploadExcel(file4)"
   ]
  },
  {
   "cell_type": "code",
   "execution_count": null,
   "id": "490dc5c4",
   "metadata": {},
   "outputs": [],
   "source": [
    "print(\"Uploading \" + file5 + \"\\nThis will take several minutes.\")\n",
    "uploadExcel(file5)"
   ]
  },
  {
   "cell_type": "code",
   "execution_count": null,
   "id": "463be2e1",
   "metadata": {},
   "outputs": [],
   "source": [
    "print(\"Uploading \" + file6 + \"\\nThis will take several minutes.\")\n",
    "uploadExcel(file6)"
   ]
  },
  {
   "cell_type": "code",
   "execution_count": null,
   "id": "2ac7b70b",
   "metadata": {},
   "outputs": [],
   "source": [
    "print(\"Uploading \" + file7 + \"\\nThis will take several minutes.\")\n",
    "uploadExcel(file7)"
   ]
  },
  {
   "cell_type": "code",
   "execution_count": null,
   "id": "bb896153",
   "metadata": {},
   "outputs": [],
   "source": [
    "print(\"All Files Provided in SF_Account_Info.txt have been uploaded now.\")"
   ]
  },
  {
   "cell_type": "code",
   "execution_count": null,
   "id": "1b16f2a3",
   "metadata": {},
   "outputs": [],
   "source": [
    "try:\n",
    "    conn.cursor().execute(aSQLstatement)\n",
    "    conn.cursor().execute(sqlScript)\n",
    "    print('Share Created!')\n",
    "except:\n",
    "    print(\"This share already esixts in your Snowflake account.\")"
   ]
  },
  {
   "cell_type": "code",
   "execution_count": null,
   "id": "4f03fe70",
   "metadata": {},
   "outputs": [],
   "source": [
    "try:\n",
    "    conn.cursor().execute(aSQLstatement)\n",
    "    conn.cursor().execute(sqlScript1)\n",
    "    conn.cursor().execute(sqlScript2)\n",
    "    conn.cursor().execute(sqlScript3)\n",
    "except:\n",
    "    print(\"There was an error in the grant usage on... SQL.\")"
   ]
  },
  {
   "cell_type": "code",
   "execution_count": null,
   "id": "24e55a65",
   "metadata": {},
   "outputs": [],
   "source": [
    "try:\n",
    "    for x in ACCOUNT_LIST:\n",
    "        sqlScript4 = 'alter share {} add accounts={};'.format(shareName, x)\n",
    "        conn.cursor().execute(aSQLstatement)\n",
    "        try:\n",
    "            conn.cursor().execute(sqlScript4)\n",
    "        except:\n",
    "            print('Account {} Could Not be Added.'.format(x))\n",
    "    print(\"Accounts Successfully Added to {}!\".format(shareName))\n",
    "except:\n",
    "    print(\"There was an error in the alter share {} add accounts=... SQL.\".format(shareName))"
   ]
  },
  {
   "cell_type": "code",
   "execution_count": null,
   "id": "4fe83e39",
   "metadata": {},
   "outputs": [],
   "source": [
    "conn.cursor().close()\n",
    "print(\"Connection to Snowflake has been closed.\")"
   ]
  },
  {
   "cell_type": "markdown",
   "id": "afdc654e",
   "metadata": {},
   "source": [
    "## Check your Snowflake account to see if the Database & Table are created and filled"
   ]
  },
  {
   "cell_type": "markdown",
   "id": "b88f6630",
   "metadata": {},
   "source": [
    "## *IMPORTANT*: This only works with accounts that are from the same region and cloud!"
   ]
  },
  {
   "cell_type": "code",
   "execution_count": null,
   "id": "254c8b79",
   "metadata": {},
   "outputs": [],
   "source": []
  },
  {
   "cell_type": "code",
   "execution_count": null,
   "id": "16c0c873",
   "metadata": {},
   "outputs": [],
   "source": [
    "# Alternative Method\n",
    "# from snowflake.connector.pandas_tools import pd_writer\n",
    "\n",
    "\n",
    "# # Specify that the to_sql method should use the pd_writer function\n",
    "# # to write the data from the DataFrame to the table named \"customers\"\n",
    "# # in the Snowflake database.\n",
    "# dfTotal.to_sql('FORMATTED_REPORTS', conn, index=False, method=pd_writer)"
   ]
  }
 ],
 "metadata": {
  "kernelspec": {
   "display_name": "Python 3",
   "language": "python",
   "name": "python3"
  },
  "language_info": {
   "codemirror_mode": {
    "name": "ipython",
    "version": 3
   },
   "file_extension": ".py",
   "mimetype": "text/x-python",
   "name": "python",
   "nbconvert_exporter": "python",
   "pygments_lexer": "ipython3",
   "version": "3.8.8"
  }
 },
 "nbformat": 4,
 "nbformat_minor": 5
}
